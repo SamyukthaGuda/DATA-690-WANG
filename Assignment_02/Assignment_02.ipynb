{
 "cells": [
  {
   "cell_type": "code",
   "execution_count": 1,
   "metadata": {},
   "outputs": [
    {
     "name": "stdout",
     "output_type": "stream",
     "text": [
      "Enter 10 integer values: 3 5 7 9 1 20 56 2 6 10\n",
      "All the 10 values are: [3, 5, 7, 9, 1, 20, 56, 2, 6, 10]\n"
     ]
    }
   ],
   "source": [
    "try:\n",
    "  numbers_list = list(map(int, input(\"Enter 10 integer values: \").split())) \n",
    "except:\n",
    "  raise Exception('Enter integers only and please retry')\n",
    "\n",
    "\n",
    "if (len(numbers_list) != 10):\n",
    "  raise Exception('Count of integers is not 10') \n",
    "\n",
    "print('All the 10 values are:',numbers_list)"
   ]
  },
  {
   "cell_type": "code",
   "execution_count": 2,
   "metadata": {},
   "outputs": [
    {
     "name": "stdout",
     "output_type": "stream",
     "text": [
      "Minimum value from List of Numbers: 1\n"
     ]
    }
   ],
   "source": [
    "min_value=numbers_list[0]\n",
    "for i in numbers_list:\n",
    "  if (i < min_value):\n",
    "    min_value=i\n",
    "print('Minimum value from List of Numbers:',min_value)"
   ]
  },
  {
   "cell_type": "code",
   "execution_count": 3,
   "metadata": {},
   "outputs": [
    {
     "name": "stdout",
     "output_type": "stream",
     "text": [
      "Maximum value from List of Numbers: 56\n"
     ]
    }
   ],
   "source": [
    "max_value=numbers_list[0]\n",
    "for i in numbers_list:\n",
    "  if (i > max_value):\n",
    "    max_value=i\n",
    "print('Maximum value from List of Numbers:',max_value)"
   ]
  },
  {
   "cell_type": "code",
   "execution_count": 4,
   "metadata": {},
   "outputs": [
    {
     "name": "stdout",
     "output_type": "stream",
     "text": [
      "Range of Numbers: 55\n"
     ]
    }
   ],
   "source": [
    "rangeOfNumbers= max_value-min_value\n",
    "print('Range of Numbers:',rangeOfNumbers)"
   ]
  },
  {
   "cell_type": "code",
   "execution_count": 5,
   "metadata": {},
   "outputs": [
    {
     "name": "stdout",
     "output_type": "stream",
     "text": [
      "Mean value of numbers: 11.9\n"
     ]
    }
   ],
   "source": [
    "totalValue=0\n",
    "count=0\n",
    "for num in numbers_list:\n",
    "  totalValue+=num\n",
    "  count+=1\n",
    "meanValue=totalValue/count\n",
    "print('Mean value of numbers:',meanValue)"
   ]
  },
  {
   "cell_type": "code",
   "execution_count": 6,
   "metadata": {},
   "outputs": [
    {
     "name": "stdout",
     "output_type": "stream",
     "text": [
      "Variance of Number List: 269.4333333333334\n"
     ]
    }
   ],
   "source": [
    "total_Sum=0\n",
    "count=0\n",
    "for num in numbers_list:\n",
    "  res=num-meanValue\n",
    "  total_Sum+=res*res\n",
    "  count+=1\n",
    "Variance_Of_Numbers=total_Sum/(count-1)\n",
    "print('Variance of Number List:',Variance_Of_Numbers)"
   ]
  },
  {
   "cell_type": "code",
   "execution_count": 7,
   "metadata": {},
   "outputs": [
    {
     "name": "stdout",
     "output_type": "stream",
     "text": [
      "Standard Deviation of Number List: 16.414424550782563\n"
     ]
    }
   ],
   "source": [
    "standard_Deviation=Variance_Of_Numbers ** 0.5\n",
    "print('Standard Deviation of Number List:',standard_Deviation)"
   ]
  },
  {
   "cell_type": "code",
   "execution_count": null,
   "metadata": {},
   "outputs": [],
   "source": []
  }
 ],
 "metadata": {
  "kernelspec": {
   "display_name": "Python 3",
   "language": "python",
   "name": "python3"
  },
  "language_info": {
   "codemirror_mode": {
    "name": "ipython",
    "version": 3
   },
   "file_extension": ".py",
   "mimetype": "text/x-python",
   "name": "python",
   "nbconvert_exporter": "python",
   "pygments_lexer": "ipython3",
   "version": "3.8.5"
  }
 },
 "nbformat": 4,
 "nbformat_minor": 4
}
