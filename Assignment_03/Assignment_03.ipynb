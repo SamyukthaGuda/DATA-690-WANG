{
 "cells": [
  {
   "cell_type": "code",
   "execution_count": 1,
   "metadata": {},
   "outputs": [
    {
     "name": "stdout",
     "output_type": "stream",
     "text": [
      "0\n",
      "8\n",
      "7\n",
      "1\n",
      "2\n",
      "2\n",
      "5\n",
      "2\n",
      "3\n",
      "1\n",
      "7\n",
      "8\n",
      "9\n",
      "7\n",
      "5\n",
      "0\n",
      "7\n",
      "6\n",
      "3\n",
      "8\n",
      "0\n",
      "6\n",
      "7\n",
      "1\n",
      "7\n",
      "9\n",
      "9\n",
      "9\n",
      "4\n",
      "3\n",
      "3\n",
      "8\n",
      "6\n",
      "2\n",
      "5\n",
      "2\n",
      "2\n",
      "5\n",
      "3\n",
      "6\n",
      "4\n",
      "6\n",
      "0\n",
      "2\n",
      "2\n",
      "6\n",
      "5\n",
      "6\n",
      "1\n",
      "1\n",
      "9\n",
      "8\n",
      "5\n",
      "6\n",
      "6\n",
      "0\n",
      "0\n",
      "0\n",
      "2\n",
      "8\n",
      "4\n",
      "7\n",
      "3\n",
      "5\n",
      "6\n",
      "6\n",
      "2\n",
      "0\n",
      "2\n",
      "2\n",
      "9\n",
      "6\n",
      "8\n",
      "3\n",
      "9\n",
      "7\n",
      "2\n",
      "2\n",
      "8\n",
      "2\n",
      "6\n",
      "6\n",
      "6\n",
      "1\n",
      "5\n",
      "8\n",
      "2\n",
      "2\n",
      "3\n",
      "6\n",
      "5\n",
      "4\n",
      "3\n",
      "5\n",
      "0\n",
      "2\n",
      "3\n",
      "6\n",
      "3\n",
      "5\n"
     ]
    }
   ],
   "source": [
    "#Write a program that generates 100 random integers between 0 and 9.\n",
    "\n",
    "import random\n",
    "for i in range(100):\n",
    "    print(random.randint(0,9))"
   ]
  },
  {
   "cell_type": "code",
   "execution_count": 2,
   "metadata": {},
   "outputs": [
    {
     "name": "stdout",
     "output_type": "stream",
     "text": [
      "4 3 5 7 3 4 1 7 9 7 \r\n",
      "5 6 7 0 6 1 3 9 0 5 \r\n",
      "8 4 2 6 7 7 6 3 1 4 \r\n",
      "2 6 4 6 2 5 8 1 3 3 \r\n",
      "0 3 4 8 3 2 6 2 7 2 \r\n",
      "3 3 2 7 0 9 9 3 7 5 \r\n",
      "5 4 2 9 9 0 3 7 6 4 \r\n",
      "3 6 6 9 9 8 0 9 0 9 \r\n",
      "1 6 5 5 9 6 7 1 4 3 \r\n",
      "2 4 9 7 0 4 2 4 5 4 \r\n"
     ]
    }
   ],
   "source": [
    "#Print them in a 10 by 10 matrix neatly arranged (one space between each number):\n",
    "import random\n",
    "for row in range(0,10):\n",
    "    for col in range(0,10):\n",
    "        rand_num=random.randint(0,9)\n",
    "        print(rand_num,end=\" \")\n",
    "    print(\"\\r\")"
   ]
  },
  {
   "cell_type": "code",
   "execution_count": 3,
   "metadata": {},
   "outputs": [
    {
     "name": "stdout",
     "output_type": "stream",
     "text": [
      "6 @ 8 6 6 @ @ @ 0 @ \r\n",
      "8 @ @ 4 @ 6 @ @ @ 8 \r\n",
      "8 @ 6 8 8 4 2 @ @ 6 \r\n",
      "@ 2 6 @ 2 4 4 @ @ @ \r\n",
      "@ 8 @ 2 @ 2 @ @ @ 2 \r\n",
      "@ 6 4 8 0 @ 8 0 4 @ \r\n",
      "8 6 @ 8 @ 4 0 @ 2 @ \r\n",
      "@ 8 @ @ @ @ 4 0 8 @ \r\n",
      "@ @ 8 @ 6 @ @ 4 6 @ \r\n",
      "6 @ @ 6 2 4 6 0 8 2 \r\n"
     ]
    }
   ],
   "source": [
    "#If the random number is an odd number, print \"@\" instead. \n",
    "import random\n",
    "for row in range(0,10):\n",
    "    for col in range(0,10):\n",
    "        rand_num=random.randint(0,9)\n",
    "        if(rand_num % 2 == 0):\n",
    "            print(rand_num,end=\" \")\n",
    "        else:\n",
    "            print(\"@\",end=\" \")    \n",
    "    print(\"\\r\")\n"
   ]
  },
  {
   "cell_type": "code",
   "execution_count": 4,
   "metadata": {},
   "outputs": [
    {
     "name": "stdout",
     "output_type": "stream",
     "text": [
      "5 6 4 1 5 8 9 4 3 7 * 52 \r\n",
      "3 0 4 1 8 3 3 2 9 0 * 33 \r\n",
      "2 2 0 4 8 0 5 4 1 4 * 30 \r\n",
      "4 0 7 4 9 0 5 7 6 6 * 48 \r\n",
      "4 4 2 9 4 9 3 0 6 6 * 47 \r\n",
      "9 9 9 6 8 1 0 2 3 2 * 49 \r\n",
      "7 7 1 6 9 2 7 1 5 3 * 48 \r\n",
      "5 3 3 8 6 5 8 4 0 9 * 51 \r\n",
      "4 4 0 7 6 3 6 6 3 0 * 39 \r\n",
      "2 6 2 0 3 7 7 2 7 0 * 36 \r\n"
     ]
    }
   ],
   "source": [
    "#Calculate and Print the total of each row  (use \"*\" to separate the total from the numbers):\n",
    "import random\n",
    "for row in range(0,10):\n",
    "  sum=0\n",
    "  for col in range(0,10):\n",
    "    rand_num=random.randint(0,9)\n",
    "    print(rand_num,end=\" \")\n",
    "    sum+=rand_num\n",
    "  print(\"*\",end=\" \")\n",
    "  print(sum,end=\" \")\n",
    "  print(\"\\r\")\n"
   ]
  },
  {
   "cell_type": "code",
   "execution_count": 5,
   "metadata": {},
   "outputs": [
    {
     "name": "stdout",
     "output_type": "stream",
     "text": [
      "***********************\n",
      "* 4 4 5 5 1 4 5 9 9 0 * \n",
      "* 2 2 3 2 6 3 8 7 4 1 * \n",
      "* 7 3 6 2 4 8 2 3 7 3 * \n",
      "* 5 7 7 0 8 4 3 3 7 6 * \n",
      "* 5 2 8 6 9 4 5 5 1 7 * \n",
      "* 2 3 2 8 8 6 2 3 9 4 * \n",
      "* 7 9 4 2 3 0 0 4 1 8 * \n",
      "* 3 0 3 4 3 8 2 8 6 5 * \n",
      "* 4 4 4 2 1 4 5 7 0 8 * \n",
      "* 0 3 9 5 4 1 3 4 6 0 * \n",
      "***********************"
     ]
    }
   ],
   "source": [
    "#Surround the matrix with asterisks (*)\n",
    "import random\n",
    "\n",
    "for i in range(12):\n",
    "    if( i == 11):\n",
    "        print(\"*\",end=\"\")\n",
    "    else:\n",
    "        print(\"**\",end=\"\")\n",
    "print()\n",
    "\n",
    "for i in range(10):           \n",
    "    tempArray =[] \n",
    "    for j in range(12):\n",
    "        if( j>0 and j<11):\n",
    "            print(random.randint(0,9), end=\" \")            \n",
    "        else:\n",
    "            print(\"*\", end=\" \")\n",
    "    print()        \n",
    "            \n",
    "for i in range(12):\n",
    "    if( i == 11):\n",
    "        print(\"*\",end=\"\")\n",
    "    else:\n",
    "        print(\"**\",end=\"\")\n",
    "\n"
   ]
  },
  {
   "cell_type": "code",
   "execution_count": 6,
   "metadata": {},
   "outputs": [
    {
     "name": "stdout",
     "output_type": "stream",
     "text": [
      "3  6  6  1  5  2  6  6  9  2  * 46\n",
      "8  6  9  7  9  8  2  4  5  5  * 63\n",
      "2  5  0  1  7  7  3  9  2  9  * 45\n",
      "3  0  0  6  9  9  8  2  2  3  * 42\n",
      "5  3  4  5  9  5  4  0  4  1  * 40\n",
      "4  7  3  0  6  8  8  3  1  1  * 41\n",
      "1  5  8  9  3  8  1  4  8  2  * 49\n",
      "5  7  8  7  5  3  5  3  5  8  * 56\n",
      "4  7  3  6  4  9  2  8  5  8  * 56\n",
      "4  1  2  9  9  2  0  1  5  8  * 41\n",
      "*  *  *  *  *  *  *  *  *  *  \n",
      "39 47 43 51 66 61 39 40 46 47 "
     ]
    }
   ],
   "source": [
    "#Calculate and Print the total of each row and column\n",
    "import random\n",
    "\n",
    "finalMatrix = [] \n",
    "rowSumArray=[]\n",
    "colSumArray=[]\n",
    "row = 0\n",
    "col = 0\n",
    "\n",
    "\n",
    "for i in range(10):           \n",
    "    tempArray =[] \n",
    "    for j in range(10):\n",
    "         tempArray.append(random.randint(0,9)) \n",
    "    finalMatrix.append(tempArray) \n",
    "  \n",
    "for i in range(10): \n",
    "    row=0 \n",
    "    col=0\n",
    "    for j in range(10): \n",
    "        row += finalMatrix[i][j]\n",
    "        col += finalMatrix[j][i]\n",
    "    rowSumArray.append(row)\n",
    "    colSumArray.append(col)\n",
    "    \n",
    "for i in range(10):           \n",
    "    for j in range(10):\n",
    "        print(finalMatrix[i][j], end=\"  \")\n",
    "    print(\"*\",rowSumArray[i])\n",
    "    \n",
    "for i in range(10):\n",
    "    print(\"*\", end=\"  \")\n",
    "\n",
    "print()\n",
    "\n",
    "for i in range(10):\n",
    "    print(colSumArray[i],end=\" \")\n"
   ]
  },
  {
   "cell_type": "code",
   "execution_count": null,
   "metadata": {},
   "outputs": [],
   "source": []
  }
 ],
 "metadata": {
  "kernelspec": {
   "display_name": "Python 3",
   "language": "python",
   "name": "python3"
  },
  "language_info": {
   "codemirror_mode": {
    "name": "ipython",
    "version": 3
   },
   "file_extension": ".py",
   "mimetype": "text/x-python",
   "name": "python",
   "nbconvert_exporter": "python",
   "pygments_lexer": "ipython3",
   "version": "3.8.5"
  }
 },
 "nbformat": 4,
 "nbformat_minor": 4
}
