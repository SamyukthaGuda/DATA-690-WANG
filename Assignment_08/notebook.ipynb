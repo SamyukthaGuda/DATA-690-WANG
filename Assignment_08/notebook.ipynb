{
  "cells": [
    {
      "cell_type": "code",
      "metadata": {
        "tags": [],
        "cell_id": "00000-0df294f2-1eaa-487b-a770-403f4ccf07f6",
        "deepnote_to_be_reexecuted": false,
        "source_hash": "7ec79b8d",
        "execution_millis": 0,
        "execution_start": 1618723485478,
        "deepnote_cell_type": "code"
      },
      "source": "# Import necessary libraries\nimport pandas as pd\nimport random\nimport os\nimport statistics as st\nimport math",
      "execution_count": null,
      "outputs": []
    },
    {
      "cell_type": "code",
      "metadata": {
        "tags": [],
        "cell_id": "00001-a5d78b27-eb72-4438-b2ae-7df1067c6785",
        "deepnote_to_be_reexecuted": false,
        "source_hash": "8a872230",
        "execution_millis": 0,
        "execution_start": 1618720362954,
        "deepnote_cell_type": "code"
      },
      "source": "%config IPCompleter.greedy=True\n",
      "execution_count": null,
      "outputs": []
    },
    {
      "cell_type": "code",
      "metadata": {
        "tags": [],
        "cell_id": "00002-f08d84d2-45f1-4516-9877-155b02fff38d",
        "deepnote_to_be_reexecuted": false,
        "source_hash": "bfd91300",
        "execution_start": 1618720434400,
        "execution_millis": 17,
        "deepnote_cell_type": "code"
      },
      "source": "current_folder = os.getcwd()\nprint(current_folder)",
      "execution_count": null,
      "outputs": [
        {
          "name": "stdout",
          "text": "/work\n",
          "output_type": "stream"
        }
      ]
    },
    {
      "cell_type": "code",
      "metadata": {
        "tags": [],
        "cell_id": "00003-68a79d45-72e7-4db4-8719-fb1e62543f94",
        "deepnote_to_be_reexecuted": false,
        "source_hash": "2b9109eb",
        "execution_millis": 5,
        "execution_start": 1618723526318,
        "deepnote_cell_type": "code"
      },
      "source": "# Retrieve the names of the 22 files and assign them to a List variable\n# You would need to filter out other files\n# Display the names of these 22 files\nfile_list = os.listdir('./data/input')\nfile_list",
      "execution_count": null,
      "outputs": [
        {
          "output_type": "execute_result",
          "execution_count": 58,
          "data": {
            "text/plain": "['MERGED2005_06_PP.csv',\n 'MERGED2003_04_PP.csv',\n 'MERGED1998_99_PP.csv',\n 'MERGED2010_11_PP.csv',\n 'MERGED2012_13_PP.csv',\n 'MERGED1999_00_PP.csv',\n 'MERGED2016_17_PP.csv',\n 'MERGED2008_09_PP.csv',\n 'MERGED2001_02_PP.csv',\n 'MERGED2017_18_PP.csv',\n 'MERGED2009_10_PP.csv',\n 'Crosswalks.zip',\n 'Most-Recent-Cohorts-All-Data-Elements.csv',\n 'MERGED2014_15_PP.csv',\n 'MERGED2015_16_PP.csv',\n 'MERGED2013_14_PP.csv',\n 'Most-Recent-Cohorts-Field-of-Study.csv',\n 'MERGED1996_97_PP.csv',\n 'MERGED2000_01_PP.csv',\n 'MERGED2002_03_PP.csv',\n 'data.yaml',\n 'MERGED1997_98_PP.csv',\n 'FieldOfStudyData1516_1617_PP.csv',\n 'MERGED2006_07_PP.csv',\n 'MERGED2018_19_PP.csv',\n 'FieldOfStudyData1617_1718_PP.csv',\n 'MERGED2011_12_PP.csv',\n 'FieldOfStudyData1415_1516_PP.csv',\n 'MERGED2007_08_PP.csv',\n 'MERGED2004_05_PP.csv']"
          },
          "metadata": {}
        }
      ]
    },
    {
      "cell_type": "code",
      "metadata": {
        "tags": [],
        "cell_id": "00004-a74dcac1-5cbb-404f-a700-c7472d46dae1",
        "deepnote_to_be_reexecuted": false,
        "source_hash": "ff5a9c5a",
        "execution_millis": 5652,
        "execution_start": 1618721568150,
        "deepnote_cell_type": "code"
      },
      "source": "# Write code to randomly select one file name out of the 22 files names. \n# Hint: generate a random integer between 0 and 21 first\n# Display the file name\ndf = pd.read_csv(\"./data/input/MERGED2009_10_PP.csv\")\ndf.shape\n",
      "execution_count": null,
      "outputs": [
        {
          "name": "stderr",
          "text": "/shared-libs/python3.7/py-core/lib/python3.7/site-packages/IPython/core/interactiveshell.py:3166: DtypeWarning: Columns (1,1351,1365,1377,1378,1407,1408,1411,1426,1431,1432,1433,1445,1446,1447,1461,1489,1537,1538,1539,1540,1541,1542,1547,1548,1549,1553,1554,1559,1560,1561,1562,1563,1567,1568,1571,1572,1573,1574,1606,1609,1610,1611,1613,1614,1615,1616,1636,1637,1711,1723,1724,1729,1909,1910,1911,1912,1913) have mixed types.Specify dtype option on import or set low_memory=False.\n  interactivity=interactivity, compiler=compiler, result=result)\n",
          "output_type": "stream"
        },
        {
          "output_type": "execute_result",
          "execution_count": 20,
          "data": {
            "text/plain": "(7217, 2383)"
          },
          "metadata": {}
        }
      ]
    },
    {
      "cell_type": "code",
      "metadata": {
        "tags": [],
        "cell_id": "00005-b2821e0e-5ade-4780-ad37-687b5b95a147",
        "deepnote_to_be_reexecuted": false,
        "source_hash": "50e7a320",
        "execution_millis": 800,
        "execution_start": 1618723621298,
        "deepnote_cell_type": "code"
      },
      "source": "# Only read the two columns: college name (INSTNM) and in state tution (\"TUITIONFEE_IN\")\n# from this file into a data frame aand display use info() function to display a summary information\ndf = pd.read_csv(\"./data/input/MERGED2009_10_PP.csv\",usecols=['INSTNM','TUITIONFEE_IN'])\ndf.head()\n",
      "execution_count": null,
      "outputs": [
        {
          "output_type": "execute_result",
          "execution_count": 59,
          "data": {
            "application/vnd.deepnote.dataframe.v2+json": {
              "row_count": 5,
              "column_count": 2,
              "columns": [
                {
                  "name": "INSTNM",
                  "dtype": "object",
                  "stats": {
                    "unique_count": 5,
                    "nan_count": 0,
                    "categories": [
                      {
                        "name": "Community College of the Air Force",
                        "count": 1
                      },
                      {
                        "name": "Alabama A & M University",
                        "count": 1
                      },
                      {
                        "name": "3 others",
                        "count": 3
                      }
                    ]
                  }
                },
                {
                  "name": "TUITIONFEE_IN",
                  "dtype": "float64",
                  "stats": {
                    "unique_count": 4,
                    "nan_count": 1,
                    "min": "4692.0",
                    "max": "8000.0",
                    "histogram": [
                      {
                        "bin_start": 4692,
                        "bin_end": 5022.8,
                        "count": 1
                      },
                      {
                        "bin_start": 5022.8,
                        "bin_end": 5353.6,
                        "count": 1
                      },
                      {
                        "bin_start": 5353.6,
                        "bin_end": 5684.4,
                        "count": 0
                      },
                      {
                        "bin_start": 5684.4,
                        "bin_end": 6015.2,
                        "count": 0
                      },
                      {
                        "bin_start": 6015.2,
                        "bin_end": 6346,
                        "count": 0
                      },
                      {
                        "bin_start": 6346,
                        "bin_end": 6676.8,
                        "count": 1
                      },
                      {
                        "bin_start": 6676.8,
                        "bin_end": 7007.6,
                        "count": 0
                      },
                      {
                        "bin_start": 7007.6,
                        "bin_end": 7338.4,
                        "count": 0
                      },
                      {
                        "bin_start": 7338.4,
                        "bin_end": 7669.200000000001,
                        "count": 0
                      },
                      {
                        "bin_start": 7669.200000000001,
                        "bin_end": 8000,
                        "count": 1
                      }
                    ]
                  }
                },
                {
                  "name": "_deepnote_index_column",
                  "dtype": "int64"
                }
              ],
              "rows_top": [
                {
                  "INSTNM": "Community College of the Air Force",
                  "TUITIONFEE_IN": "nan",
                  "_deepnote_index_column": 0
                },
                {
                  "INSTNM": "Alabama A & M University",
                  "TUITIONFEE_IN": "4692.0",
                  "_deepnote_index_column": 1
                },
                {
                  "INSTNM": "University of Alabama at Birmingham",
                  "TUITIONFEE_IN": "5096.0",
                  "_deepnote_index_column": 2
                },
                {
                  "INSTNM": "Amridge University",
                  "TUITIONFEE_IN": "8000.0",
                  "_deepnote_index_column": 3
                },
                {
                  "INSTNM": "University of Alabama in Huntsville",
                  "TUITIONFEE_IN": "6510.0",
                  "_deepnote_index_column": 4
                }
              ],
              "rows_bottom": null
            },
            "text/plain": "                                INSTNM  TUITIONFEE_IN\n0   Community College of the Air Force            NaN\n1             Alabama A & M University         4692.0\n2  University of Alabama at Birmingham         5096.0\n3                   Amridge University         8000.0\n4  University of Alabama in Huntsville         6510.0",
            "text/html": "<div>\n<style scoped>\n    .dataframe tbody tr th:only-of-type {\n        vertical-align: middle;\n    }\n\n    .dataframe tbody tr th {\n        vertical-align: top;\n    }\n\n    .dataframe thead th {\n        text-align: right;\n    }\n</style>\n<table border=\"1\" class=\"dataframe\">\n  <thead>\n    <tr style=\"text-align: right;\">\n      <th></th>\n      <th>INSTNM</th>\n      <th>TUITIONFEE_IN</th>\n    </tr>\n  </thead>\n  <tbody>\n    <tr>\n      <th>0</th>\n      <td>Community College of the Air Force</td>\n      <td>NaN</td>\n    </tr>\n    <tr>\n      <th>1</th>\n      <td>Alabama A &amp; M University</td>\n      <td>4692.0</td>\n    </tr>\n    <tr>\n      <th>2</th>\n      <td>University of Alabama at Birmingham</td>\n      <td>5096.0</td>\n    </tr>\n    <tr>\n      <th>3</th>\n      <td>Amridge University</td>\n      <td>8000.0</td>\n    </tr>\n    <tr>\n      <th>4</th>\n      <td>University of Alabama in Huntsville</td>\n      <td>6510.0</td>\n    </tr>\n  </tbody>\n</table>\n</div>"
          },
          "metadata": {}
        }
      ]
    },
    {
      "cell_type": "code",
      "metadata": {
        "tags": [],
        "cell_id": "00006-b28c41d2-c6c0-4cb7-af55-bb4619bfcc87",
        "deepnote_to_be_reexecuted": false,
        "source_hash": "3de0e1e7",
        "execution_millis": 12,
        "execution_start": 1618723648837,
        "deepnote_cell_type": "code"
      },
      "source": "# Find out how many observations have missing value.\ndf.isnull().sum()",
      "execution_count": null,
      "outputs": [
        {
          "output_type": "execute_result",
          "execution_count": 60,
          "data": {
            "text/plain": "INSTNM              0\nTUITIONFEE_IN    2928\ndtype: int64"
          },
          "metadata": {}
        }
      ]
    },
    {
      "cell_type": "code",
      "metadata": {
        "tags": [],
        "cell_id": "00007-a0398eeb-4236-407d-8f50-594f4cb1dbcc",
        "deepnote_to_be_reexecuted": false,
        "source_hash": "57e83fef",
        "execution_millis": 18,
        "execution_start": 1618723670537,
        "deepnote_cell_type": "code"
      },
      "source": "# Drop those observations with missing value\n# Disaply the number of observations afterward\ndf = df.dropna() \ndf.shape\n",
      "execution_count": null,
      "outputs": [
        {
          "output_type": "execute_result",
          "execution_count": 61,
          "data": {
            "text/plain": "(4289, 2)"
          },
          "metadata": {}
        }
      ]
    },
    {
      "cell_type": "code",
      "metadata": {
        "tags": [],
        "cell_id": "00008-5e34a74e-d8e0-4322-be02-6eb83625f602",
        "deepnote_to_be_reexecuted": false,
        "source_hash": "fdd66da7",
        "execution_millis": 8,
        "execution_start": 1618722245182,
        "deepnote_cell_type": "code"
      },
      "source": "# Find out how many observations have 0 tution.\nzero_tuition = df[df['TUITIONFEE_IN']==0]\nzero_tuition.shape\n",
      "execution_count": null,
      "outputs": [
        {
          "output_type": "execute_result",
          "execution_count": 37,
          "data": {
            "text/plain": "(5, 2)"
          },
          "metadata": {}
        }
      ]
    },
    {
      "cell_type": "code",
      "metadata": {
        "tags": [],
        "cell_id": "00009-e2da3979-bbdc-4dec-8a97-95098831c44c",
        "deepnote_to_be_reexecuted": false,
        "source_hash": "736e9411",
        "execution_millis": 6,
        "execution_start": 1618723717274,
        "deepnote_cell_type": "code"
      },
      "source": "# 8 - Drop those observations with 0 tuition\n# Disaply the number of observations afterward\ndf = df[df['TUITIONFEE_IN']!=0]\ndf.shape",
      "execution_count": null,
      "outputs": [
        {
          "output_type": "execute_result",
          "execution_count": 62,
          "data": {
            "text/plain": "(4284, 2)"
          },
          "metadata": {}
        }
      ]
    },
    {
      "cell_type": "code",
      "metadata": {
        "tags": [],
        "cell_id": "00010-90bc11ff-ce23-4236-aae7-ed82545923a0",
        "deepnote_to_be_reexecuted": false,
        "source_hash": "7fae7f82",
        "execution_millis": 8,
        "execution_start": 1618723738380,
        "deepnote_cell_type": "code"
      },
      "source": "# Calculate and display the mean (average) of the tuitions of all the remaining observations\naverage_fee = st.mean(df['TUITIONFEE_IN'])\nprint('Average Tuition Fees ', average_fee )\n",
      "execution_count": null,
      "outputs": [
        {
          "name": "stdout",
          "text": "Average Tuition Fees  12067.689775910365\n",
          "output_type": "stream"
        }
      ]
    },
    {
      "cell_type": "code",
      "metadata": {
        "tags": [],
        "cell_id": "00011-86bf0441-99ce-435c-9b22-50a1714a1ddd",
        "deepnote_to_be_reexecuted": false,
        "source_hash": "346ec4f9",
        "execution_millis": 84,
        "execution_start": 1618723762230,
        "deepnote_cell_type": "code"
      },
      "source": "# 10 - Randomly select just 1 observation from the data frame.\n# Display the tuition of that observation.\nrow = df.sample() \nrow\n",
      "execution_count": null,
      "outputs": [
        {
          "output_type": "execute_result",
          "execution_count": 64,
          "data": {
            "application/vnd.deepnote.dataframe.v2+json": {
              "row_count": 1,
              "column_count": 2,
              "columns": [
                {
                  "name": "INSTNM",
                  "dtype": "object",
                  "stats": {
                    "unique_count": 1,
                    "nan_count": 0,
                    "categories": [
                      {
                        "name": "National American University-Zona Rosa",
                        "count": 1
                      }
                    ]
                  }
                },
                {
                  "name": "TUITIONFEE_IN",
                  "dtype": "float64",
                  "stats": {
                    "unique_count": 1,
                    "nan_count": 0,
                    "min": "12160.0",
                    "max": "12160.0",
                    "histogram": [
                      {
                        "bin_start": 12159.5,
                        "bin_end": 12159.6,
                        "count": 0
                      },
                      {
                        "bin_start": 12159.6,
                        "bin_end": 12159.7,
                        "count": 0
                      },
                      {
                        "bin_start": 12159.7,
                        "bin_end": 12159.8,
                        "count": 0
                      },
                      {
                        "bin_start": 12159.8,
                        "bin_end": 12159.9,
                        "count": 0
                      },
                      {
                        "bin_start": 12159.9,
                        "bin_end": 12160,
                        "count": 0
                      },
                      {
                        "bin_start": 12160,
                        "bin_end": 12160.1,
                        "count": 1
                      },
                      {
                        "bin_start": 12160.1,
                        "bin_end": 12160.2,
                        "count": 0
                      },
                      {
                        "bin_start": 12160.2,
                        "bin_end": 12160.3,
                        "count": 0
                      },
                      {
                        "bin_start": 12160.3,
                        "bin_end": 12160.4,
                        "count": 0
                      },
                      {
                        "bin_start": 12160.4,
                        "bin_end": 12160.5,
                        "count": 0
                      }
                    ]
                  }
                },
                {
                  "name": "_deepnote_index_column",
                  "dtype": "int64"
                }
              ],
              "rows_top": [
                {
                  "INSTNM": "National American University-Zona Rosa",
                  "TUITIONFEE_IN": 12160,
                  "_deepnote_index_column": 6416
                }
              ],
              "rows_bottom": null
            },
            "text/plain": "                                      INSTNM  TUITIONFEE_IN\n6416  National American University-Zona Rosa        12160.0",
            "text/html": "<div>\n<style scoped>\n    .dataframe tbody tr th:only-of-type {\n        vertical-align: middle;\n    }\n\n    .dataframe tbody tr th {\n        vertical-align: top;\n    }\n\n    .dataframe thead th {\n        text-align: right;\n    }\n</style>\n<table border=\"1\" class=\"dataframe\">\n  <thead>\n    <tr style=\"text-align: right;\">\n      <th></th>\n      <th>INSTNM</th>\n      <th>TUITIONFEE_IN</th>\n    </tr>\n  </thead>\n  <tbody>\n    <tr>\n      <th>6416</th>\n      <td>National American University-Zona Rosa</td>\n      <td>12160.0</td>\n    </tr>\n  </tbody>\n</table>\n</div>"
          },
          "metadata": {}
        }
      ]
    },
    {
      "cell_type": "code",
      "metadata": {
        "tags": [],
        "cell_id": "00012-6afd05a8-fb7c-4d5e-9dc9-8f4493132f77",
        "deepnote_to_be_reexecuted": false,
        "source_hash": "5a509277",
        "execution_millis": 10,
        "execution_start": 1618722688691,
        "deepnote_cell_type": "code"
      },
      "source": "# Calculate the different between the tuition of this observation and \n# the mean tuition off all observations calculated earlier.\n# Display the difference\nprint(row['TUITIONFEE_IN']-average_fee)\n",
      "execution_count": null,
      "outputs": [
        {
          "name": "stdout",
          "text": "2833   -5977.689776\nName: TUITIONFEE_IN, dtype: float64\n",
          "output_type": "stream"
        }
      ]
    },
    {
      "cell_type": "code",
      "metadata": {
        "tags": [],
        "cell_id": "00013-63253702-9dfd-4b80-8a69-1b518087a833",
        "deepnote_to_be_reexecuted": false,
        "source_hash": "ec213f68",
        "execution_millis": 44,
        "execution_start": 1618723816124,
        "deepnote_cell_type": "code"
      },
      "source": "# Randomly select 20 observations, display the tuition of these observation.\nrandom_observations = df.sample(20)\nrandom_observations\n",
      "execution_count": null,
      "outputs": [
        {
          "output_type": "execute_result",
          "execution_count": 65,
          "data": {
            "application/vnd.deepnote.dataframe.v2+json": {
              "row_count": 20,
              "column_count": 2,
              "columns": [
                {
                  "name": "INSTNM",
                  "dtype": "object",
                  "stats": {
                    "unique_count": 20,
                    "nan_count": 0,
                    "categories": [
                      {
                        "name": "Cortiva Institute-Florida",
                        "count": 1
                      },
                      {
                        "name": "Vernon College",
                        "count": 1
                      },
                      {
                        "name": "18 others",
                        "count": 18
                      }
                    ]
                  }
                },
                {
                  "name": "TUITIONFEE_IN",
                  "dtype": "float64",
                  "stats": {
                    "unique_count": 20,
                    "nan_count": 0,
                    "min": "1549.0",
                    "max": "20130.0",
                    "histogram": [
                      {
                        "bin_start": 1549,
                        "bin_end": 3407.1,
                        "count": 3
                      },
                      {
                        "bin_start": 3407.1,
                        "bin_end": 5265.2,
                        "count": 3
                      },
                      {
                        "bin_start": 5265.2,
                        "bin_end": 7123.299999999999,
                        "count": 1
                      },
                      {
                        "bin_start": 7123.299999999999,
                        "bin_end": 8981.4,
                        "count": 1
                      },
                      {
                        "bin_start": 8981.4,
                        "bin_end": 10839.5,
                        "count": 2
                      },
                      {
                        "bin_start": 10839.5,
                        "bin_end": 12697.599999999999,
                        "count": 3
                      },
                      {
                        "bin_start": 12697.599999999999,
                        "bin_end": 14555.699999999999,
                        "count": 2
                      },
                      {
                        "bin_start": 14555.699999999999,
                        "bin_end": 16413.8,
                        "count": 2
                      },
                      {
                        "bin_start": 16413.8,
                        "bin_end": 18271.899999999998,
                        "count": 2
                      },
                      {
                        "bin_start": 18271.899999999998,
                        "bin_end": 20130,
                        "count": 1
                      }
                    ]
                  }
                },
                {
                  "name": "_deepnote_index_column",
                  "dtype": "int64"
                }
              ],
              "rows_top": [
                {
                  "INSTNM": "Cortiva Institute-Florida",
                  "TUITIONFEE_IN": 11765,
                  "_deepnote_index_column": 815
                },
                {
                  "INSTNM": "Vernon College",
                  "TUITIONFEE_IN": 2490,
                  "_deepnote_index_column": 4096
                },
                {
                  "INSTNM": "Crossroads College",
                  "TUITIONFEE_IN": 14290,
                  "_deepnote_index_column": 2084
                },
                {
                  "INSTNM": "Urbana University",
                  "TUITIONFEE_IN": 20130,
                  "_deepnote_index_column": 3250
                },
                {
                  "INSTNM": "Marion S Whelan School of Nursing of Geneva General Hospital",
                  "TUITIONFEE_IN": 8645,
                  "_deepnote_index_column": 2695
                },
                {
                  "INSTNM": "Colorado Technical University-Online",
                  "TUITIONFEE_IN": 11660,
                  "_deepnote_index_column": 6071
                },
                {
                  "INSTNM": "Piedmont Community College",
                  "TUITIONFEE_IN": 1549,
                  "_deepnote_index_column": 2968
                },
                {
                  "INSTNM": "ITT Technical Institute-Portland",
                  "TUITIONFEE_IN": 17148,
                  "_deepnote_index_column": 3348
                },
                {
                  "INSTNM": "CUNY Bernard M Baruch College",
                  "TUITIONFEE_IN": 4970,
                  "_deepnote_index_column": 2613
                },
                {
                  "INSTNM": "Bel-Rea Institute of Animal Technology",
                  "TUITIONFEE_IN": 9094,
                  "_deepnote_index_column": 605
                },
                {
                  "INSTNM": "New Hampshire Institute of Art",
                  "TUITIONFEE_IN": 17130,
                  "_deepnote_index_column": 5548
                },
                {
                  "INSTNM": "Baker College of Allen Park",
                  "TUITIONFEE_IN": 7020,
                  "_deepnote_index_column": 6072
                },
                {
                  "INSTNM": "Strayer University-Mason Campus",
                  "TUITIONFEE_IN": 13065,
                  "_deepnote_index_column": 7090
                },
                {
                  "INSTNM": "Cumberland County College",
                  "TUITIONFEE_IN": 3516,
                  "_deepnote_index_column": 2440
                },
                {
                  "INSTNM": "Dakota College at Bottineau",
                  "TUITIONFEE_IN": 3836,
                  "_deepnote_index_column": 3023
                },
                {
                  "INSTNM": "International Baptist College and Seminary",
                  "TUITIONFEE_IN": 9660,
                  "_deepnote_index_column": 5683
                },
                {
                  "INSTNM": "Trocaire College",
                  "TUITIONFEE_IN": 12292,
                  "_deepnote_index_column": 2844
                },
                {
                  "INSTNM": "Good Samaritan College of Nursing and Health Science",
                  "TUITIONFEE_IN": 14712,
                  "_deepnote_index_column": 3111
                },
                {
                  "INSTNM": "Stevens-Henager College",
                  "TUITIONFEE_IN": 14730,
                  "_deepnote_index_column": 4128
                },
                {
                  "INSTNM": "Bay de Noc Community College",
                  "TUITIONFEE_IN": 2836,
                  "_deepnote_index_column": 1929
                }
              ],
              "rows_bottom": null
            },
            "text/plain": "                                                 INSTNM  TUITIONFEE_IN\n815                           Cortiva Institute-Florida        11765.0\n4096                                     Vernon College         2490.0\n2084                                 Crossroads College        14290.0\n3250                                  Urbana University        20130.0\n2695  Marion S Whelan School of Nursing of Geneva Ge...         8645.0\n6071               Colorado Technical University-Online        11660.0\n2968                         Piedmont Community College         1549.0\n3348                   ITT Technical Institute-Portland        17148.0\n2613                      CUNY Bernard M Baruch College         4970.0\n605              Bel-Rea Institute of Animal Technology         9094.0\n5548                     New Hampshire Institute of Art        17130.0\n6072                        Baker College of Allen Park         7020.0\n7090                    Strayer University-Mason Campus        13065.0\n2440                          Cumberland County College         3516.0\n3023                        Dakota College at Bottineau         3836.0\n5683         International Baptist College and Seminary         9660.0\n2844                                   Trocaire College        12292.0\n3111  Good Samaritan College of Nursing and Health S...        14712.0\n4128                            Stevens-Henager College        14730.0\n1929                       Bay de Noc Community College         2836.0",
            "text/html": "<div>\n<style scoped>\n    .dataframe tbody tr th:only-of-type {\n        vertical-align: middle;\n    }\n\n    .dataframe tbody tr th {\n        vertical-align: top;\n    }\n\n    .dataframe thead th {\n        text-align: right;\n    }\n</style>\n<table border=\"1\" class=\"dataframe\">\n  <thead>\n    <tr style=\"text-align: right;\">\n      <th></th>\n      <th>INSTNM</th>\n      <th>TUITIONFEE_IN</th>\n    </tr>\n  </thead>\n  <tbody>\n    <tr>\n      <th>815</th>\n      <td>Cortiva Institute-Florida</td>\n      <td>11765.0</td>\n    </tr>\n    <tr>\n      <th>4096</th>\n      <td>Vernon College</td>\n      <td>2490.0</td>\n    </tr>\n    <tr>\n      <th>2084</th>\n      <td>Crossroads College</td>\n      <td>14290.0</td>\n    </tr>\n    <tr>\n      <th>3250</th>\n      <td>Urbana University</td>\n      <td>20130.0</td>\n    </tr>\n    <tr>\n      <th>2695</th>\n      <td>Marion S Whelan School of Nursing of Geneva Ge...</td>\n      <td>8645.0</td>\n    </tr>\n    <tr>\n      <th>6071</th>\n      <td>Colorado Technical University-Online</td>\n      <td>11660.0</td>\n    </tr>\n    <tr>\n      <th>2968</th>\n      <td>Piedmont Community College</td>\n      <td>1549.0</td>\n    </tr>\n    <tr>\n      <th>3348</th>\n      <td>ITT Technical Institute-Portland</td>\n      <td>17148.0</td>\n    </tr>\n    <tr>\n      <th>2613</th>\n      <td>CUNY Bernard M Baruch College</td>\n      <td>4970.0</td>\n    </tr>\n    <tr>\n      <th>605</th>\n      <td>Bel-Rea Institute of Animal Technology</td>\n      <td>9094.0</td>\n    </tr>\n    <tr>\n      <th>5548</th>\n      <td>New Hampshire Institute of Art</td>\n      <td>17130.0</td>\n    </tr>\n    <tr>\n      <th>6072</th>\n      <td>Baker College of Allen Park</td>\n      <td>7020.0</td>\n    </tr>\n    <tr>\n      <th>7090</th>\n      <td>Strayer University-Mason Campus</td>\n      <td>13065.0</td>\n    </tr>\n    <tr>\n      <th>2440</th>\n      <td>Cumberland County College</td>\n      <td>3516.0</td>\n    </tr>\n    <tr>\n      <th>3023</th>\n      <td>Dakota College at Bottineau</td>\n      <td>3836.0</td>\n    </tr>\n    <tr>\n      <th>5683</th>\n      <td>International Baptist College and Seminary</td>\n      <td>9660.0</td>\n    </tr>\n    <tr>\n      <th>2844</th>\n      <td>Trocaire College</td>\n      <td>12292.0</td>\n    </tr>\n    <tr>\n      <th>3111</th>\n      <td>Good Samaritan College of Nursing and Health S...</td>\n      <td>14712.0</td>\n    </tr>\n    <tr>\n      <th>4128</th>\n      <td>Stevens-Henager College</td>\n      <td>14730.0</td>\n    </tr>\n    <tr>\n      <th>1929</th>\n      <td>Bay de Noc Community College</td>\n      <td>2836.0</td>\n    </tr>\n  </tbody>\n</table>\n</div>"
          },
          "metadata": {}
        }
      ]
    },
    {
      "cell_type": "code",
      "metadata": {
        "tags": [],
        "cell_id": "00014-1b50f2f6-498a-476f-8da1-df60818ffc6d",
        "deepnote_to_be_reexecuted": false,
        "source_hash": "bc7853ca",
        "execution_millis": 8,
        "execution_start": 1618723833574,
        "deepnote_cell_type": "code"
      },
      "source": "# Calculate and display the mean tuition of these 20 observations\nmean_random_obs = st.mean(random_observations['TUITIONFEE_IN'])\nprint('Average Tuition fee of Random Observations :', mean_random_obs)\n",
      "execution_count": null,
      "outputs": [
        {
          "name": "stdout",
          "text": "Average Tuition fee of Random Observations : 10026.9\n",
          "output_type": "stream"
        }
      ]
    },
    {
      "cell_type": "code",
      "metadata": {
        "tags": [],
        "cell_id": "00015-2728113f-fe3a-45f4-a828-8542094a2350",
        "deepnote_to_be_reexecuted": false,
        "source_hash": "28d32a50",
        "execution_millis": 5,
        "execution_start": 1618723861298,
        "deepnote_cell_type": "code"
      },
      "source": "# Calculate  the different between the average tuition of these 20 observations \n# and the mean tuition off all observations calculated earlier.\n# Display the difference\nmean_diff = mean_random_obs-average_fee\nprint('Difference between Random observations and previous observations ',mean_diff)\n",
      "execution_count": null,
      "outputs": [
        {
          "name": "stdout",
          "text": "Difference between Random observations and previous observations  -2040.7897759103653\n",
          "output_type": "stream"
        }
      ]
    },
    {
      "cell_type": "markdown",
      "source": "Write a function that take two input parameters:\n\nx (number of observations)\ny (the name of the dataframe).\nThe function will perform the following:\n\nRandomly select x observations from y\nCalculate the mean of these x observations\nCalculate the mean of all observations\nCalculate the difference between the two means\nReturn the difference\n",
      "metadata": {
        "tags": [],
        "cell_id": "00016-ed20a985-1ef3-4f9a-991f-4f5b040705b0",
        "deepnote_cell_type": "markdown"
      }
    },
    {
      "cell_type": "code",
      "metadata": {
        "tags": [],
        "cell_id": "00016-bfe9beb1-673f-4b5e-9d53-1f87462fcc09",
        "deepnote_to_be_reexecuted": false,
        "source_hash": "50a634e5",
        "execution_millis": 1,
        "execution_start": 1618723958101,
        "deepnote_cell_type": "code"
      },
      "source": "# write function Code here\ndef mean_difference(x,y):\n    random_obs = y.sample(x)\n    mean_random_obs = st.mean(random_obs['TUITIONFEE_IN'])\n    total_mean = st.mean(y['TUITIONFEE_IN'])\n    return abs(mean_random_obs-total_mean)\n",
      "execution_count": null,
      "outputs": []
    },
    {
      "cell_type": "code",
      "metadata": {
        "tags": [],
        "cell_id": "00017-20f7cd27-adba-4006-b5e4-1435e58abd80",
        "deepnote_to_be_reexecuted": false,
        "source_hash": "cb143386",
        "execution_millis": 11,
        "execution_start": 1618723975798,
        "deepnote_cell_type": "code"
      },
      "source": "# test the function by passing a sample size and the name of the dataframe\n# Dsplay the return of the function\nrandom_sample = 30\nprint('Mean of random sample: ',mean_difference(30,df))\n",
      "execution_count": null,
      "outputs": [
        {
          "name": "stdout",
          "text": "Mean of random sample:  1355.5897759103646\n",
          "output_type": "stream"
        }
      ]
    },
    {
      "cell_type": "code",
      "metadata": {
        "tags": [],
        "cell_id": "00018-95b3665e-675c-412a-bafa-924de94ff67c",
        "deepnote_to_be_reexecuted": false,
        "source_hash": "b3c7770e",
        "execution_millis": 10,
        "execution_start": 1618723995212,
        "deepnote_cell_type": "code"
      },
      "source": "# Create a list of sequence numbers from 1 to 50, name it \"sample_sizes\";\n# display it to make sure its members are from 1 to 50\nsample_sizes = [i for i in range(1,51)]\nprint(sample_sizes)\n",
      "execution_count": null,
      "outputs": [
        {
          "name": "stdout",
          "text": "[1, 2, 3, 4, 5, 6, 7, 8, 9, 10, 11, 12, 13, 14, 15, 16, 17, 18, 19, 20, 21, 22, 23, 24, 25, 26, 27, 28, 29, 30, 31, 32, 33, 34, 35, 36, 37, 38, 39, 40, 41, 42, 43, 44, 45, 46, 47, 48, 49, 50]\n",
          "output_type": "stream"
        }
      ]
    },
    {
      "cell_type": "code",
      "metadata": {
        "tags": [],
        "cell_id": "00019-886a1b4d-c66c-4c60-9572-52f830d2f48f",
        "deepnote_to_be_reexecuted": false,
        "source_hash": "a74e5593",
        "execution_millis": 28,
        "execution_start": 1618724017937,
        "deepnote_cell_type": "code"
      },
      "source": "# Create an empty list and name it \"means_diff\" for differences of population mean and sample means;\n# Loop through the list sample_sizes:\n# For each element in the sample size list, obtain a random sample of that size from the data frame;\n# Calculate the sample mean \n# Calculate the difference between the population mean and the sample mean\n# Append the difference to the list \"means_diff\"\n# Display the list \"means_diff\" after the loop is completed\n\ndef calculateMeanDifference(sample_sizes,df):\n    means_diff = []\n    population_mean = st.mean(df['TUITIONFEE_IN'])\n    for i in sample_sizes:\n        sample_df = df.sample(i)\n        sample_mean = st.mean(sample_df['TUITIONFEE_IN'])\n        means_diff.append(abs(sample_mean-population_mean))\n    return means_diff\n    \nprint('Means_diff List after the loop :')\nmeans_diff = calculateMeanDifference(sample_sizes,df)\nprint(means_diff)\n",
      "execution_count": null,
      "outputs": [
        {
          "name": "stdout",
          "text": "Means_diff List after the loop :\n[8721.689775910365, 2884.310224089635, 6633.310224089635, 950.3102240896351, 3664.1102240896344, 4168.643557422969, 537.3102240896351, 2845.189775910365, 929.9768907563011, 3184.2102240896347, 4271.871594092183, 3264.976890756301, 4942.925608705018, 4369.90406162465, 1225.0897759103646, 1136.685224089635, 1701.2514005602225, 1556.3008870214762, 3334.889171458057, 1032.6602240896354, 1362.5483193277305, 2630.871594092183, 80.87544148093912, 1950.310224089635, 261.4897759103642, 2418.728237448826, 630.3472611266716, 438.84593837534885, 3485.4483966000207, 135.97689075630115, 194.23816300713952, 1.877275910364915, 2009.0231092436989, 468.2191876750712, 18.28977591036528, 2943.2546685340803, 1978.5264403058518, 530.5318811735233, 95.8692630898513, 2061.314775910365, 1752.3727027396326, 1686.5945378151264, 1823.99210149176, 1870.9625031830928, 635.4435574229683, 371.34194982340887, 670.3280737827045, 1140.127275910365, 447.35104041616614, 825.3897759103656]\n",
          "output_type": "stream"
        }
      ]
    },
    {
      "cell_type": "code",
      "metadata": {
        "tags": [],
        "cell_id": "00020-38916641-0b75-4638-b2d3-08546c818989",
        "deepnote_to_be_reexecuted": false,
        "source_hash": "5ba57e33",
        "execution_millis": 166,
        "execution_start": 1618724040504,
        "deepnote_cell_type": "code"
      },
      "source": "# Make a scatter plot with sample size on the x-axs and  mean difference on the y-axis\n# Observe as the sample size increases, the sample means converge to the population mean.\n# Make sure you make the plot large enough\nimport matplotlib.pyplot as plt\nplt.scatter(sample_sizes,means_diff)\n",
      "execution_count": null,
      "outputs": [
        {
          "output_type": "execute_result",
          "execution_count": 72,
          "data": {
            "text/plain": "<matplotlib.collections.PathCollection at 0x7f3a41a99090>"
          },
          "metadata": {}
        },
        {
          "data": {
            "text/plain": "<Figure size 432x288 with 1 Axes>",
            "image/png": "[encoded data removed]"
          },
          "metadata": {
            "needs_background": "light"
          },
          "output_type": "display_data"
        }
      ]
    },
    {
      "cell_type": "code",
      "metadata": {
        "tags": [],
        "cell_id": "00021-b0276450-f100-4199-a83d-647a57f6fd23",
        "deepnote_to_be_reexecuted": false,
        "source_hash": "53be70f0",
        "execution_millis": 868,
        "execution_start": 1618724060041,
        "deepnote_cell_type": "code"
      },
      "source": "# repeat 18 to 21 by replacing 50 with a larger number. For example, 300, or even 1000.\n# and see how the plot looks.\nsample_sizes = [i for i in range(1,1001)]\nmeans_diff = calculateMeanDifference(sample_sizes,df)\nplt.scatter(sample_sizes,means_diff)\n",
      "execution_count": null,
      "outputs": [
        {
          "output_type": "execute_result",
          "execution_count": 73,
          "data": {
            "text/plain": "<matplotlib.collections.PathCollection at 0x7f3a41a99750>"
          },
          "metadata": {}
        },
        {
          "data": {
            "text/plain": "<Figure size 432x288 with 1 Axes>",
            "image/png": "[encoded data removed]"
          },
          "metadata": {
            "needs_background": "light"
          },
          "output_type": "display_data"
        }
      ]
    },
    {
      "cell_type": "code",
      "metadata": {
        "tags": [],
        "cell_id": "00022-e5c351c6-3646-4aeb-b872-4995bbfd544d",
        "deepnote_cell_type": "code"
      },
      "source": "",
      "execution_count": null,
      "outputs": []
    },
    {
      "cell_type": "markdown",
      "source": "<a style='text-decoration:none;line-height:16px;display:flex;color:#5B5B62;padding:10px;justify-content:end;' href='https://deepnote.com?utm_source=created-in-deepnote-cell&projectId=0dc25f63-ad2b-4b6d-b2fb-3d1873eb10a4' target=\"_blank\">\n<img alt='Created in deepnote.com' style='display:inline;max-height:16px;margin:0px;margin-right:7.5px;' src='data:image/svg+xml;base64,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' > </img>\nCreated in <span style='font-weight:600;margin-left:4px;'>Deepnote</span></a>",
      "metadata": {
        "tags": [],
        "created_in_deepnote_cell": true,
        "deepnote_cell_type": "markdown"
      }
    }
  ],
  "nbformat": 4,
  "nbformat_minor": 2,
  "metadata": {
    "orig_nbformat": 2,
    "deepnote": {
      "is_reactive": false
    },
    "deepnote_notebook_id": "49ecb4a9-e1b4-445a-882c-4d147206e93a",
    "deepnote_execution_queue": []
  }
}